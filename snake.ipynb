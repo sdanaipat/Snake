{
 "cells": [
  {
   "cell_type": "code",
   "execution_count": 1,
   "metadata": {
    "collapsed": false
   },
   "outputs": [
    {
     "name": "stdout",
     "output_type": "stream",
     "text": [
      "Using matplotlib backend: Qt4Agg\n",
      "Populating the interactive namespace from numpy and matplotlib\n"
     ]
    }
   ],
   "source": [
    "%pylab"
   ]
  },
  {
   "cell_type": "code",
   "execution_count": 11,
   "metadata": {
    "collapsed": false
   },
   "outputs": [],
   "source": [
    "UP = -1\n",
    "DOWN = 1\n",
    "LEFT = -1j\n",
    "RIGHT = 1j\n",
    "\n",
    "class SnakeBody(object):\n",
    "    def __init__(self, x, y):\n",
    "        self.pos = x + y *1j\n",
    "        self.next = None\n",
    "        \n",
    "    def __repr__(self):\n",
    "        return \"(%d, %d)\" % (self.pos.real, self.pos.imag)\n",
    "    \n",
    "    def __contains__(self, pos):\n",
    "        ptr = self\n",
    "        while ptr:\n",
    "            if pos == ptr.pos:\n",
    "                return True\n",
    "            ptr = ptr.next\n",
    "        return False\n",
    "        \n",
    "\n",
    "class Snake:\n",
    "    def __init__(self, org_x, org_y, length=5, space_size=100):\n",
    "        self.head = None\n",
    "        self.direction = RIGHT\n",
    "        self.init_body(org_x, org_y, length)\n",
    "        self.space_size = space_size\n",
    "    \n",
    "    \n",
    "    def move(self, extend=False):\n",
    "        new_pos = self.head.pos + self.direction\n",
    "        new_head = SnakeBody(new_pos.real % self.space_size, new_pos.imag % self.space_size)\n",
    "        new_head.next = self.head\n",
    "        self.head = new_head\n",
    "        if not extend:\n",
    "            ptr = self.head.next\n",
    "            prev = self.head\n",
    "            while ptr.next:\n",
    "                prev = ptr\n",
    "                ptr = ptr.next\n",
    "            prev.next = None\n",
    "\n",
    "\n",
    "    def init_body(self, org_x, org_y, size):\n",
    "        self.head = SnakeBody(org_x, org_y)\n",
    "        ptr = self.head\n",
    "        for i in xrange(size):\n",
    "            if i == size - 1:\n",
    "                self.tail = ptr\n",
    "            ptr.next = SnakeBody(org_x, org_y - i -1)\n",
    "            ptr = ptr.next\n",
    "        \n",
    "        \n",
    "    def on_key(self, event):\n",
    "        directions = {'up': UP, 'down': DOWN, 'left': LEFT, 'right': RIGHT}\n",
    "        if event.key in directions:\n",
    "            if directions[event.key] != -self.direction:\n",
    "                self.direction = directions[event.key]\n",
    "\n",
    "    def __contains__(self, pos):\n",
    "        return pos in self.head\n",
    "    "
   ]
  },
  {
   "cell_type": "code",
   "execution_count": 58,
   "metadata": {
    "collapsed": false
   },
   "outputs": [],
   "source": [
    "import random\n",
    "import time\n",
    "\n",
    "\n",
    "INIT = 0\n",
    "PLAYING = 1\n",
    "END = 2\n",
    "\n",
    "\n",
    "class Game(object):\n",
    "    def __init__(self, size=100):\n",
    "        self.size = size\n",
    "        self.init_game()\n",
    "        self.init_graphic()\n",
    "\n",
    "        \n",
    "    def init_game(self):\n",
    "        self.state = INIT\n",
    "        self.score = 0\n",
    "        self.snake = Snake(self.size/2, self.size/2, self.size/3, self.size)\n",
    "        self.food = self.place_food()\n",
    "\n",
    "        \n",
    "    def init_graphic(self):\n",
    "        fig = plt.figure()\n",
    "        fig.set_size_inches(5, 5)\n",
    "        plt.xlim(self.size, self.size)\n",
    "        plt.ylim(self.size, self.size)\n",
    "        plt.axis('off')\n",
    "        cid = fig.canvas.mpl_connect('key_press_event', self.on_key)\n",
    "        self.render()\n",
    "        \n",
    "        \n",
    "    def on_key(self, event):\n",
    "        if self.state == INIT:\n",
    "            self.state = PLAYING\n",
    "            self.start()\n",
    "        elif self.state == END:\n",
    "            self.init_game()\n",
    "        else:\n",
    "            self.snake.on_key(event)\n",
    "\n",
    "            \n",
    "    def start(self):\n",
    "        while plt.get_fignums():\n",
    "            if self.hit():\n",
    "                self.state = END\n",
    "                break\n",
    "            elif self.eat():\n",
    "                self.score += 1\n",
    "                self.snake.move(extend=True)\n",
    "                self.food = self.place_food()\n",
    "            else:\n",
    "                self.snake.move()\n",
    "            self.render()\n",
    "            time.sleep(0.01)\n",
    "            plt.pause(0.001)\n",
    "            \n",
    "            \n",
    "    def place_food(self):\n",
    "        x = random.randint(0, self.size - 1)\n",
    "        y = random.randint(0, self.size - 1)\n",
    "        while (x + y*1j) in self.snake:\n",
    "            x = random.randint(0, self.size - 1)\n",
    "            y = random.randint(0, self.size - 1)\n",
    "        return x + y*1j\n",
    "\n",
    "\n",
    "    def render(self):\n",
    "        plt.cla()\n",
    "        plt.axis('off')\n",
    "        ptr = self.snake.head\n",
    "        mat = np.zeros((self.size, self.size))\n",
    "        while ptr:\n",
    "            mat[ptr.pos.real, ptr.pos.imag] = 1\n",
    "            ptr = ptr.next\n",
    "        mat[self.food.real, self.food.imag] = .5\n",
    "        plt.imshow(mat, interpolation='nearest', cmap=plt.cm.Greys)\n",
    "        plt.title(\"score : {:,}\".format(self.score))\n",
    "        plt.draw()\n",
    "        \n",
    "        \n",
    "    def eat(self):\n",
    "        return self.snake.head.pos == self.food\n",
    "    \n",
    "    \n",
    "    def hit(self):\n",
    "        return self.snake.head.pos in self.snake.head.next\n",
    "    "
   ]
  },
  {
   "cell_type": "code",
   "execution_count": 59,
   "metadata": {
    "collapsed": false
   },
   "outputs": [],
   "source": [
    "g = Game(100)"
   ]
  },
  {
   "cell_type": "code",
   "execution_count": null,
   "metadata": {
    "collapsed": true
   },
   "outputs": [],
   "source": []
  }
 ],
 "metadata": {
  "kernelspec": {
   "display_name": "Python 2",
   "language": "python",
   "name": "python2"
  },
  "language_info": {
   "codemirror_mode": {
    "name": "ipython",
    "version": 2
   },
   "file_extension": ".py",
   "mimetype": "text/x-python",
   "name": "python",
   "nbconvert_exporter": "python",
   "pygments_lexer": "ipython2",
   "version": "2.7.9"
  }
 },
 "nbformat": 4,
 "nbformat_minor": 0
}
